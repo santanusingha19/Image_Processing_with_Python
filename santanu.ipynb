{
  "nbformat": 4,
  "nbformat_minor": 0,
  "metadata": {
    "colab": {
      "name": "santanu.ipynb",
      "provenance": [],
      "include_colab_link": true
    },
    "kernelspec": {
      "name": "python3",
      "display_name": "Python 3"
    },
    "language_info": {
      "name": "python"
    },
    "accelerator": "GPU"
  },
  "cells": [
    {
      "cell_type": "markdown",
      "metadata": {
        "id": "view-in-github",
        "colab_type": "text"
      },
      "source": [
        "<a href=\"https://colab.research.google.com/github/santanusingha19/Image_Processing_with_Python/blob/main/santanu.ipynb\" target=\"_parent\"><img src=\"https://colab.research.google.com/assets/colab-badge.svg\" alt=\"Open In Colab\"/></a>"
      ]
    },
    {
      "cell_type": "code",
      "source": [
        "import numpy as np # linear algebra\n",
        "import pandas as pd # data processing, CSV file I/O (e.g. pd.read_csv)"
      ],
      "metadata": {
        "id": "rU_ov2d0xpp9"
      },
      "execution_count": 49,
      "outputs": []
    },
    {
      "cell_type": "code",
      "source": [
        "import matplotlib.pyplot as plt"
      ],
      "metadata": {
        "id": "QCtPuXNBx1ja"
      },
      "execution_count": 50,
      "outputs": []
    },
    {
      "cell_type": "code",
      "source": [
        "!pip install kaggle"
      ],
      "metadata": {
        "id": "zNRfNd6Lx5_J",
        "colab": {
          "base_uri": "https://localhost:8080/"
        },
        "outputId": "95f655a7-3dbc-43b3-a17c-e1c77e77b102"
      },
      "execution_count": 51,
      "outputs": [
        {
          "output_type": "stream",
          "name": "stdout",
          "text": [
            "Requirement already satisfied: kaggle in /usr/local/lib/python3.7/dist-packages (1.5.12)\n",
            "Requirement already satisfied: six>=1.10 in /usr/local/lib/python3.7/dist-packages (from kaggle) (1.15.0)\n",
            "Requirement already satisfied: python-dateutil in /usr/local/lib/python3.7/dist-packages (from kaggle) (2.8.2)\n",
            "Requirement already satisfied: certifi in /usr/local/lib/python3.7/dist-packages (from kaggle) (2021.10.8)\n",
            "Requirement already satisfied: requests in /usr/local/lib/python3.7/dist-packages (from kaggle) (2.23.0)\n",
            "Requirement already satisfied: python-slugify in /usr/local/lib/python3.7/dist-packages (from kaggle) (6.1.1)\n",
            "Requirement already satisfied: urllib3 in /usr/local/lib/python3.7/dist-packages (from kaggle) (1.24.3)\n",
            "Requirement already satisfied: tqdm in /usr/local/lib/python3.7/dist-packages (from kaggle) (4.63.0)\n",
            "Requirement already satisfied: text-unidecode>=1.3 in /usr/local/lib/python3.7/dist-packages (from python-slugify->kaggle) (1.3)\n",
            "Requirement already satisfied: idna<3,>=2.5 in /usr/local/lib/python3.7/dist-packages (from requests->kaggle) (2.10)\n",
            "Requirement already satisfied: chardet<4,>=3.0.2 in /usr/local/lib/python3.7/dist-packages (from requests->kaggle) (3.0.4)\n"
          ]
        }
      ]
    },
    {
      "cell_type": "code",
      "source": [
        "from google.colab import files\n",
        "files.upload()"
      ],
      "metadata": {
        "id": "Fh6D9fprx8wY",
        "colab": {
          "resources": {
            "http://localhost:8080/nbextensions/google.colab/files.js": {
              "data": "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",
              "ok": true,
              "headers": [
                [
                  "content-type",
                  "application/javascript"
                ]
              ],
              "status": 200,
              "status_text": ""
            }
          },
          "base_uri": "https://localhost:8080/",
          "height": 90
        },
        "outputId": "180ab6a5-5a50-4380-8261-4ea35cef50c9"
      },
      "execution_count": 52,
      "outputs": [
        {
          "output_type": "display_data",
          "data": {
            "text/plain": [
              "<IPython.core.display.HTML object>"
            ],
            "text/html": [
              "\n",
              "     <input type=\"file\" id=\"files-6ef3bf22-8e74-4c23-bd1b-14c7c9ac58b8\" name=\"files[]\" multiple disabled\n",
              "        style=\"border:none\" />\n",
              "     <output id=\"result-6ef3bf22-8e74-4c23-bd1b-14c7c9ac58b8\">\n",
              "      Upload widget is only available when the cell has been executed in the\n",
              "      current browser session. Please rerun this cell to enable.\n",
              "      </output>\n",
              "      <script src=\"/nbextensions/google.colab/files.js\"></script> "
            ]
          },
          "metadata": {}
        },
        {
          "output_type": "stream",
          "name": "stdout",
          "text": [
            "Saving kaggle.json to kaggle (2).json\n"
          ]
        },
        {
          "output_type": "execute_result",
          "data": {
            "text/plain": [
              "{'kaggle.json': b'{\"username\":\"santanusingha19\",\"key\":\"4e84b583d2898621cf7e89dc7fa0a6ca\"}'}"
            ]
          },
          "metadata": {},
          "execution_count": 52
        }
      ]
    },
    {
      "cell_type": "code",
      "source": [
        "! mkdir ~/.kaggle"
      ],
      "metadata": {
        "id": "n5rhJl5Tx-qY",
        "colab": {
          "base_uri": "https://localhost:8080/"
        },
        "outputId": "0e880d15-0fa8-4e72-e00a-c5fcbb348c62"
      },
      "execution_count": 53,
      "outputs": [
        {
          "output_type": "stream",
          "name": "stdout",
          "text": [
            "mkdir: cannot create directory ‘/root/.kaggle’: File exists\n"
          ]
        }
      ]
    },
    {
      "cell_type": "code",
      "source": [
        "! cp kaggle.json ~/.kaggle/"
      ],
      "metadata": {
        "id": "LmLOaf-ByAcJ"
      },
      "execution_count": 54,
      "outputs": []
    },
    {
      "cell_type": "code",
      "source": [
        "! chmod 600 ~/.kaggle/kaggle.json"
      ],
      "metadata": {
        "id": "Z2HA7u46yETM"
      },
      "execution_count": 55,
      "outputs": []
    },
    {
      "cell_type": "code",
      "source": [
        "!kaggle datasets download -d divyanshrai/handwritten-signatures"
      ],
      "metadata": {
        "id": "d5u5jJ_-yHqB",
        "colab": {
          "base_uri": "https://localhost:8080/"
        },
        "outputId": "194a9b06-9b31-44d1-982b-a84fa9ef0466"
      },
      "execution_count": 56,
      "outputs": [
        {
          "output_type": "stream",
          "name": "stdout",
          "text": [
            "handwritten-signatures.zip: Skipping, found more recently modified local copy (use --force to force download)\n"
          ]
        }
      ]
    },
    {
      "cell_type": "code",
      "source": [
        "!unzip handwritten-signatures"
      ],
      "metadata": {
        "id": "uGYpnQmWyLa1",
        "colab": {
          "base_uri": "https://localhost:8080/"
        },
        "outputId": "2e062bc2-d21e-463d-8d59-8c16ce979dc3"
      },
      "execution_count": 57,
      "outputs": [
        {
          "output_type": "stream",
          "name": "stdout",
          "text": [
            "Archive:  handwritten-signatures.zip\n",
            "replace Dataset_Signature_Final/Dataset/dataset1/forge/02100001.png? [y]es, [n]o, [A]ll, [N]one, [r]ename: \n",
            "error:  invalid response [{ENTER}]\n",
            "replace Dataset_Signature_Final/Dataset/dataset1/forge/02100001.png? [y]es, [n]o, [A]ll, [N]one, [r]ename: "
          ]
        }
      ]
    },
    {
      "cell_type": "code",
      "source": [
        "import matplotlib.pyplot as plt\n",
        "img = plt.imread('/content/sample_Signature/sample_Signature/forged/NFI-00301001.png')\n",
        "plt.imshow(img)"
      ],
      "metadata": {
        "id": "_VvhHM2jyymU",
        "colab": {
          "base_uri": "https://localhost:8080/",
          "height": 190
        },
        "outputId": "e33db0c6-c33b-43e9-ac88-f2918f8f3f66"
      },
      "execution_count": 58,
      "outputs": [
        {
          "output_type": "execute_result",
          "data": {
            "text/plain": [
              "<matplotlib.image.AxesImage at 0x7f76e6aaab10>"
            ]
          },
          "metadata": {},
          "execution_count": 58
        },
        {
          "output_type": "display_data",
          "data": {
            "text/plain": [
              "<Figure size 432x288 with 1 Axes>"
            ],
            "image/png": "[encoded data removed]"
          },
          "metadata": {
            "needs_background": "light"
          }
        }
      ]
    },
    {
      "cell_type": "code",
      "source": [
        "img1 = plt.imread('/content/sample_Signature/sample_Signature/genuine/NFI-00101001.png')\n",
        "plt.imshow(img1)"
      ],
      "metadata": {
        "id": "1hSJt7lzzLiP",
        "colab": {
          "base_uri": "https://localhost:8080/",
          "height": 237
        },
        "outputId": "7886e2a6-9009-4ff1-dabe-d665ac9269ea"
      },
      "execution_count": 59,
      "outputs": [
        {
          "output_type": "execute_result",
          "data": {
            "text/plain": [
              "<matplotlib.image.AxesImage at 0x7f76e6a6a090>"
            ]
          },
          "metadata": {},
          "execution_count": 59
        },
        {
          "output_type": "display_data",
          "data": {
            "text/plain": [
              "<Figure size 432x288 with 1 Axes>"
            ],
            "image/png": "[encoded data removed]"
          },
          "metadata": {
            "needs_background": "light"
          }
        }
      ]
    },
    {
      "cell_type": "code",
      "source": [
        "import glob\n",
        "gen = [glob.glob('/content/Dataset_Signature_Final/Dataset/dataset1/real/*.*'),\n",
        "       glob.glob('/content/Dataset_Signature_Final/Dataset/dataset2/real/*.*'),\n",
        "       glob.glob('/content/Dataset_Signature_Final/Dataset/dataset3/real/*.*'),\n",
        "       glob.glob('/content/Dataset_Signature_Final/Dataset/dataset4/real1/*.*')]\n",
        "                 \n",
        "forg = [glob.glob('/content/Dataset_Signature_Final/Dataset/dataset1/forge/*.*'),\n",
        "        glob.glob('/content/Dataset_Signature_Final/Dataset/dataset2/forge/*.*'),\n",
        "        glob.glob('/content/Dataset_Signature_Final/Dataset/dataset3/forge/*.*'),\n",
        "        glob.glob('/content/Dataset_Signature_Final/Dataset/dataset4/forge/*.*')]"
      ],
      "metadata": {
        "id": "hzXKJeRqzjOn"
      },
      "execution_count": 60,
      "outputs": []
    },
    {
      "cell_type": "code",
      "source": [
        "import glob\n",
        "import keras\n",
        "import cv2\n",
        "\n",
        "#gen = glob.glob(\"/content/sample_Signature/sample_Signature/genuine/*.*\")\n",
        "#forg = glob.glob(\"/content/sample_Signature/sample_Signature/forged/*.*\")\n",
        "# ../input/handwritten-signatures/sample_Signature/sample_Signature/forged/NFI-00101014.png\n",
        "\n",
        "train_data = []\n",
        "train_labels = []\n",
        "\n",
        "test_data = []\n",
        "test_labels = []\n",
        "\n",
        "for data in range(len(gen)):\n",
        "    for i in gen[data]:\n",
        "        if data == 3:\n",
        "            image = cv2.imread(i)\n",
        "            image = cv2.cvtColor(image, cv2.COLOR_BGR2RGB)\n",
        "            image = cv2.resize(image, (224, 224))\n",
        "            test_data.append(image)\n",
        "            test_labels.append(0)\n",
        "        else:\n",
        "            image = cv2.imread(i)\n",
        "            image = cv2.cvtColor(image,cv2.COLOR_BGR2RGB)\n",
        "            image = cv2.resize(image, (224, 224))\n",
        "            train_data.append(image)\n",
        "            train_labels.append(0) #genuine = 0\n",
        "        \n",
        "for data in range(len(forg)):\n",
        "    for j in forg[data]:\n",
        "        if data == 3:\n",
        "            image = cv2.imread(j)\n",
        "            image = cv2.cvtColor(image, cv2.COLOR_BGR2RGB)\n",
        "            image = cv2.resize(image, (224, 224))\n",
        "            test_data.append(image)\n",
        "            test_labels.append(1)\n",
        "        else:\n",
        "            image = cv2.imread(j)\n",
        "            image = cv2.cvtColor(image, cv2.COLOR_BGR2RGB)\n",
        "            image = cv2.resize(image, (224, 224))\n",
        "            train_data.append(image)\n",
        "            train_labels.append(1) #forged = 1\n",
        "\n",
        "train_data  = np.array(train_data)/255.0\n",
        "train_labels = np.array(train_labels)\n",
        "\n",
        "test_data = np.array(test_data)/255.0\n",
        "test_labels = np.array(test_labels)"
      ],
      "metadata": {
        "id": "YlI1Jm-dznM7"
      },
      "execution_count": 61,
      "outputs": []
    },
    {
      "cell_type": "code",
      "source": [
        "train_data.shape"
      ],
      "metadata": {
        "id": "VAfhvBDyzq_G",
        "colab": {
          "base_uri": "https://localhost:8080/"
        },
        "outputId": "39d577fe-872a-4df1-c5b7-44aad36d4603"
      },
      "execution_count": 62,
      "outputs": [
        {
          "output_type": "execute_result",
          "data": {
            "text/plain": [
              "(540, 224, 224, 3)"
            ]
          },
          "metadata": {},
          "execution_count": 62
        }
      ]
    },
    {
      "cell_type": "code",
      "source": [
        "test_data.shape"
      ],
      "metadata": {
        "id": "aKgqfB_t3zKB",
        "colab": {
          "base_uri": "https://localhost:8080/"
        },
        "outputId": "f001f85a-ef4a-411b-9ad4-904f7a3c3bf3"
      },
      "execution_count": 63,
      "outputs": [
        {
          "output_type": "execute_result",
          "data": {
            "text/plain": [
              "(180, 224, 224, 3)"
            ]
          },
          "metadata": {},
          "execution_count": 63
        }
      ]
    },
    {
      "cell_type": "code",
      "source": [
        "from sklearn.utils import shuffle\n",
        "train_data,train_labels = shuffle(train_data,train_labels)\n",
        "\n",
        "test_data,test_labels = shuffle(test_data,test_labels)"
      ],
      "metadata": {
        "id": "aXZQiR3TztOF"
      },
      "execution_count": 64,
      "outputs": []
    },
    {
      "cell_type": "code",
      "source": [
        "from keras.models import Sequential\n",
        "from keras.layers import Conv2D,MaxPooling2D,Flatten,Dense,Dropout\n",
        "from keras_preprocessing.image import ImageDataGenerator\n",
        "from sklearn.metrics import confusion_matrix as CM\n",
        "from tensorflow.keras.optimizers import Adam\n",
        "from tensorflow.keras.models import Model\n",
        "from keras.layers import GlobalAveragePooling2D\n",
        "\n",
        "network = Sequential()\n",
        "\n",
        "network.add(Conv2D(64,(3,3),input_shape=(224,224,3),activation='relu'))\n",
        "network.add(MaxPooling2D(3,3))\n",
        "network.add(Conv2D(32,(3,3),activation='relu'))\n",
        "network.add(MaxPooling2D(2,2))\n",
        "#network.add(Flatten())\n",
        "\n",
        "network.add(Dense(128,activation = 'relu'))\n",
        "network.add(Flatten())\n",
        "network.add(Dropout(rate=0.3))\n",
        "network.add(Dense(2,activation = 'softmax'))\n",
        "network.add(Flatten())\n",
        "\n",
        "network.compile(optimizer=Adam(lr=0.001),loss=\"binary_crossentropy\",metrics=[\"accuracy\"])\n",
        "#model.compile(optimizer=Adam(lr=0.001),loss=\"binary_crossentropy\",metrics=[\"accuracy\"])\n",
        "#model.compile(optimizer='adam',loss = tf.keras.losses.SparseCategoricalCrossentropy(from_logits=True), metrics=['accuracy'])\n",
        "network.summary()"
      ],
      "metadata": {
        "id": "VW4Tc2FzzwZ2",
        "colab": {
          "base_uri": "https://localhost:8080/"
        },
        "outputId": "8aa12995-3538-4944-e2e4-c4027b82e907"
      },
      "execution_count": 65,
      "outputs": [
        {
          "output_type": "stream",
          "name": "stdout",
          "text": [
            "Model: \"sequential_2\"\n",
            "_________________________________________________________________\n",
            " Layer (type)                Output Shape              Param #   \n",
            "=================================================================\n",
            " conv2d_4 (Conv2D)           (None, 222, 222, 64)      1792      \n",
            "                                                                 \n",
            " max_pooling2d_4 (MaxPooling  (None, 74, 74, 64)       0         \n",
            " 2D)                                                             \n",
            "                                                                 \n",
            " conv2d_5 (Conv2D)           (None, 72, 72, 32)        18464     \n",
            "                                                                 \n",
            " max_pooling2d_5 (MaxPooling  (None, 36, 36, 32)       0         \n",
            " 2D)                                                             \n",
            "                                                                 \n",
            " dense_4 (Dense)             (None, 36, 36, 128)       4224      \n",
            "                                                                 \n",
            " flatten_4 (Flatten)         (None, 165888)            0         \n",
            "                                                                 \n",
            " dropout_2 (Dropout)         (None, 165888)            0         \n",
            "                                                                 \n",
            " dense_5 (Dense)             (None, 2)                 331778    \n",
            "                                                                 \n",
            " flatten_5 (Flatten)         (None, 2)                 0         \n",
            "                                                                 \n",
            "=================================================================\n",
            "Total params: 356,258\n",
            "Trainable params: 356,258\n",
            "Non-trainable params: 0\n",
            "_________________________________________________________________\n"
          ]
        },
        {
          "output_type": "stream",
          "name": "stderr",
          "text": [
            "/usr/local/lib/python3.7/dist-packages/keras/optimizer_v2/adam.py:105: UserWarning: The `lr` argument is deprecated, use `learning_rate` instead.\n",
            "  super(Adam, self).__init__(name, **kwargs)\n"
          ]
        }
      ]
    },
    {
      "cell_type": "code",
      "source": [
        "from keras.callbacks import ModelCheckpoint, LearningRateScheduler, EarlyStopping, ReduceLROnPlateau, TensorBoard\n",
        "earlyStopping = EarlyStopping(monitor='val_loss',\n",
        "                              min_delta=0,\n",
        "                              patience=3,\n",
        "                              verbose=1)\n",
        "\n",
        "callback_early_stop_reduceLROnPlateau=[earlyStopping]\n",
        "\n",
        "\n",
        "EPOCHS = 5\n",
        "BS = 1\n",
        "progess = network.fit(train_data,train_labels, batch_size=BS,epochs=EPOCHS, callbacks=callback_early_stop_reduceLROnPlateau,validation_split=.05)"
      ],
      "metadata": {
        "id": "q8d4xJsDz5b8",
        "colab": {
          "base_uri": "https://localhost:8080/"
        },
        "outputId": "058e7436-a500-492b-ba07-6636abf225cd"
      },
      "execution_count": 66,
      "outputs": [
        {
          "output_type": "stream",
          "name": "stdout",
          "text": [
            "Epoch 1/5\n",
            "513/513 [==============================] - 5s 9ms/step - loss: 0.7039 - accuracy: 0.5010 - val_loss: 0.6932 - val_accuracy: 0.4815\n",
            "Epoch 2/5\n",
            "513/513 [==============================] - 4s 9ms/step - loss: 0.6932 - accuracy: 0.5049 - val_loss: 0.6931 - val_accuracy: 0.4074\n",
            "Epoch 3/5\n",
            "513/513 [==============================] - 4s 9ms/step - loss: 0.6931 - accuracy: 0.4854 - val_loss: 0.6931 - val_accuracy: 0.4444\n",
            "Epoch 4/5\n",
            "513/513 [==============================] - 4s 9ms/step - loss: 0.6931 - accuracy: 0.5224 - val_loss: 0.6931 - val_accuracy: 0.4444\n",
            "Epoch 5/5\n",
            "513/513 [==============================] - 4s 9ms/step - loss: 0.6931 - accuracy: 0.4990 - val_loss: 0.6931 - val_accuracy: 0.4074\n"
          ]
        }
      ]
    },
    {
      "cell_type": "code",
      "source": [
        "acc = progess.history['accuracy']\n",
        "val_acc = progess.history['val_accuracy']\n",
        "loss = progess.history['loss']\n",
        "val_loss = progess.history['val_loss']\n",
        " \n",
        "epochs = range(len(acc))\n",
        " \n",
        "plt.plot(epochs, acc, 'b', label='Training acc')\n",
        "plt.plot(epochs, val_acc, 'r', label='Validation acc')\n",
        "plt.title('Training and validation accuracy')\n",
        "plt.legend()\n",
        "\n",
        "plt.plot(epochs, loss, 'b', label='Training loss')\n",
        "plt.plot(epochs, val_loss, 'r', label='Validation loss')\n",
        "plt.title('Training and validation loss')\n",
        "plt.legend()\n",
        " \n",
        "plt.show()\n",
        " \n",
        "plt.figure()"
      ],
      "metadata": {
        "id": "WidW0uOTJXVt",
        "colab": {
          "base_uri": "https://localhost:8080/",
          "height": 316
        },
        "outputId": "c01f0264-5555-4d3a-dda5-6e84decd0c80"
      },
      "execution_count": 67,
      "outputs": [
        {
          "output_type": "display_data",
          "data": {
            "text/plain": [
              "<Figure size 432x288 with 1 Axes>"
            ],
            "image/png": "[encoded data removed]"
          },
          "metadata": {
            "needs_background": "light"
          }
        },
        {
          "output_type": "execute_result",
          "data": {
            "text/plain": [
              "<Figure size 432x288 with 0 Axes>"
            ]
          },
          "metadata": {},
          "execution_count": 67
        },
        {
          "output_type": "display_data",
          "data": {
            "text/plain": [
              "<Figure size 432x288 with 0 Axes>"
            ]
          },
          "metadata": {}
        }
      ]
    },
    {
      "cell_type": "code",
      "source": [
        "pred = network.predict(test_data)"
      ],
      "metadata": {
        "id": "vAG3lt2zJsNd"
      },
      "execution_count": 68,
      "outputs": []
    },
    {
      "cell_type": "code",
      "source": [
        "pred  #prob of genuine, prob of forged"
      ],
      "metadata": {
        "id": "1_MfsHRqJuhQ",
        "colab": {
          "base_uri": "https://localhost:8080/"
        },
        "outputId": "2a5fba8a-c912-4f43-c1eb-0c8ea566de37"
      },
      "execution_count": 69,
      "outputs": [
        {
          "output_type": "execute_result",
          "data": {
            "text/plain": [
              "array([[0.5001798 , 0.49982017],\n",
              "       [0.49996826, 0.50003177],\n",
              "       [0.4996992 , 0.50030077],\n",
              "       [0.5002929 , 0.4997071 ],\n",
              "       [0.50003916, 0.49996084],\n",
              "       [0.5004994 , 0.4995005 ],\n",
              "       [0.50028044, 0.4997196 ],\n",
              "       [0.5001069 , 0.49989307],\n",
              "       [0.4999076 , 0.5000924 ],\n",
              "       [0.5003018 , 0.49969822],\n",
              "       [0.5000612 , 0.49993876],\n",
              "       [0.50291216, 0.4970878 ],\n",
              "       [0.5000656 , 0.4999344 ],\n",
              "       [0.4996586 , 0.50034136],\n",
              "       [0.50031024, 0.4996898 ],\n",
              "       [0.5002832 , 0.49971688],\n",
              "       [0.5005156 , 0.49948445],\n",
              "       [0.5000551 , 0.49994496],\n",
              "       [0.49980596, 0.500194  ],\n",
              "       [0.49993613, 0.50006384],\n",
              "       [0.50030553, 0.4996945 ],\n",
              "       [0.5001206 , 0.49987936],\n",
              "       [0.5001466 , 0.49985337],\n",
              "       [0.5001437 , 0.49985632],\n",
              "       [0.50036013, 0.4996398 ],\n",
              "       [0.5003971 , 0.4996029 ],\n",
              "       [0.5008262 , 0.4991738 ],\n",
              "       [0.5001092 , 0.49989074],\n",
              "       [0.4999801 , 0.5000199 ],\n",
              "       [0.5004102 , 0.4995898 ],\n",
              "       [0.50033903, 0.499661  ],\n",
              "       [0.5004543 , 0.49954572],\n",
              "       [0.49982178, 0.5001782 ],\n",
              "       [0.5002173 , 0.49978268],\n",
              "       [0.5000514 , 0.49994862],\n",
              "       [0.5003088 , 0.4996912 ],\n",
              "       [0.5000798 , 0.49992022],\n",
              "       [0.50008243, 0.4999176 ],\n",
              "       [0.5018286 , 0.49817142],\n",
              "       [0.50026196, 0.49973804],\n",
              "       [0.49957928, 0.5004207 ],\n",
              "       [0.50002104, 0.49997896],\n",
              "       [0.5001714 , 0.49982855],\n",
              "       [0.5005175 , 0.49948248],\n",
              "       [0.50088936, 0.49911064],\n",
              "       [0.49984786, 0.5001521 ],\n",
              "       [0.5003898 , 0.4996102 ],\n",
              "       [0.49995646, 0.5000435 ],\n",
              "       [0.500366  , 0.499634  ],\n",
              "       [0.50047857, 0.49952146],\n",
              "       [0.49995044, 0.50004953],\n",
              "       [0.4997893 , 0.5002107 ],\n",
              "       [0.49989176, 0.50010824],\n",
              "       [0.5001828 , 0.49981722],\n",
              "       [0.5003243 , 0.4996757 ],\n",
              "       [0.50121456, 0.4987854 ],\n",
              "       [0.5000774 , 0.49992254],\n",
              "       [0.50056964, 0.4994304 ],\n",
              "       [0.49913636, 0.5008636 ],\n",
              "       [0.5000304 , 0.4999696 ],\n",
              "       [0.4999821 , 0.50001794],\n",
              "       [0.5000472 , 0.49995282],\n",
              "       [0.5001688 , 0.49983117],\n",
              "       [0.49970677, 0.5002932 ],\n",
              "       [0.50024354, 0.49975643],\n",
              "       [0.5009587 , 0.4990413 ],\n",
              "       [0.5000615 , 0.49993846],\n",
              "       [0.50027525, 0.49972475],\n",
              "       [0.5007136 , 0.49928644],\n",
              "       [0.5000313 , 0.49996868],\n",
              "       [0.49973878, 0.5002612 ],\n",
              "       [0.50010514, 0.4998948 ],\n",
              "       [0.50040436, 0.4995956 ],\n",
              "       [0.4999648 , 0.5000352 ],\n",
              "       [0.49940896, 0.5005911 ],\n",
              "       [0.4996061 , 0.5003939 ],\n",
              "       [0.49967858, 0.5003214 ],\n",
              "       [0.50018114, 0.4998189 ],\n",
              "       [0.5003826 , 0.49961737],\n",
              "       [0.49996874, 0.50003123],\n",
              "       [0.5007738 , 0.49922624],\n",
              "       [0.5004151 , 0.49958494],\n",
              "       [0.50004977, 0.4999502 ],\n",
              "       [0.50054616, 0.49945384],\n",
              "       [0.49983653, 0.5001635 ],\n",
              "       [0.4999223 , 0.5000777 ],\n",
              "       [0.50099146, 0.4990085 ],\n",
              "       [0.5011635 , 0.4988365 ],\n",
              "       [0.49969548, 0.5003045 ],\n",
              "       [0.4999112 , 0.5000888 ],\n",
              "       [0.501487  , 0.49851298],\n",
              "       [0.5003851 , 0.49961486],\n",
              "       [0.49995634, 0.5000437 ],\n",
              "       [0.5000557 , 0.49994433],\n",
              "       [0.5000333 , 0.4999667 ],\n",
              "       [0.50062615, 0.49937388],\n",
              "       [0.5000442 , 0.4999558 ],\n",
              "       [0.500171  , 0.49982902],\n",
              "       [0.5002484 , 0.49975163],\n",
              "       [0.4997041 , 0.5002959 ],\n",
              "       [0.5003305 , 0.49966952],\n",
              "       [0.50026095, 0.49973905],\n",
              "       [0.49980402, 0.500196  ],\n",
              "       [0.50029916, 0.4997008 ],\n",
              "       [0.49939036, 0.5006096 ],\n",
              "       [0.49981487, 0.50018513],\n",
              "       [0.49985605, 0.50014395],\n",
              "       [0.5000769 , 0.49992308],\n",
              "       [0.5001889 , 0.49981114],\n",
              "       [0.49995264, 0.5000474 ],\n",
              "       [0.5004812 , 0.49951884],\n",
              "       [0.50045043, 0.49954954],\n",
              "       [0.49989313, 0.5001069 ],\n",
              "       [0.5004368 , 0.49956322],\n",
              "       [0.50010407, 0.49989587],\n",
              "       [0.49993134, 0.50006866],\n",
              "       [0.5001102 , 0.4998898 ],\n",
              "       [0.5001082 , 0.49989182],\n",
              "       [0.50003165, 0.49996835],\n",
              "       [0.5000893 , 0.4999107 ],\n",
              "       [0.49995968, 0.50004035],\n",
              "       [0.5002093 , 0.49979067],\n",
              "       [0.49945432, 0.5005457 ],\n",
              "       [0.500265  , 0.499735  ],\n",
              "       [0.50043267, 0.49956733],\n",
              "       [0.5004302 , 0.4995698 ],\n",
              "       [0.5003206 , 0.49967933],\n",
              "       [0.5003961 , 0.49960387],\n",
              "       [0.49984506, 0.500155  ],\n",
              "       [0.50109184, 0.4989082 ],\n",
              "       [0.4994024 , 0.5005976 ],\n",
              "       [0.5003835 , 0.49961647],\n",
              "       [0.5003161 , 0.4996839 ],\n",
              "       [0.499948  , 0.50005203],\n",
              "       [0.5000373 , 0.49996272],\n",
              "       [0.5005219 , 0.4994781 ],\n",
              "       [0.50012046, 0.49987948],\n",
              "       [0.5001075 , 0.49989244],\n",
              "       [0.4999163 , 0.50008374],\n",
              "       [0.50038546, 0.49961454],\n",
              "       [0.50160956, 0.4983905 ],\n",
              "       [0.50056076, 0.4994393 ],\n",
              "       [0.49964523, 0.50035477],\n",
              "       [0.5001821 , 0.49981794],\n",
              "       [0.50029033, 0.4997097 ],\n",
              "       [0.5001404 , 0.49985957],\n",
              "       [0.50039154, 0.49960846],\n",
              "       [0.5023091 , 0.49769092],\n",
              "       [0.5006737 , 0.49932626],\n",
              "       [0.5009511 , 0.4990489 ],\n",
              "       [0.49879172, 0.5012083 ],\n",
              "       [0.4999641 , 0.50003594],\n",
              "       [0.50049216, 0.4995078 ],\n",
              "       [0.5001997 , 0.49980032],\n",
              "       [0.4999752 , 0.5000248 ],\n",
              "       [0.5001495 , 0.4998505 ],\n",
              "       [0.4998021 , 0.5001978 ],\n",
              "       [0.5002563 , 0.49974373],\n",
              "       [0.5002557 , 0.49974427],\n",
              "       [0.50051063, 0.49948937],\n",
              "       [0.49952614, 0.50047386],\n",
              "       [0.5005024 , 0.4994976 ],\n",
              "       [0.50088525, 0.49911475],\n",
              "       [0.5021186 , 0.49788138],\n",
              "       [0.50012255, 0.4998775 ],\n",
              "       [0.50050604, 0.49949396],\n",
              "       [0.50001556, 0.49998447],\n",
              "       [0.49992058, 0.5000794 ],\n",
              "       [0.50007147, 0.49992856],\n",
              "       [0.49977198, 0.50022805],\n",
              "       [0.4999661 , 0.5000339 ],\n",
              "       [0.5002593 , 0.49974072],\n",
              "       [0.50014406, 0.499856  ],\n",
              "       [0.49942514, 0.5005749 ],\n",
              "       [0.50025326, 0.49974677],\n",
              "       [0.49988568, 0.5001143 ],\n",
              "       [0.50026864, 0.49973136],\n",
              "       [0.5000875 , 0.4999125 ],\n",
              "       [0.5003193 , 0.4996807 ],\n",
              "       [0.5002091 , 0.49979088]], dtype=float32)"
            ]
          },
          "metadata": {},
          "execution_count": 69
        }
      ]
    },
    {
      "cell_type": "code",
      "source": [
        "from sklearn.metrics import accuracy_score\n",
        "accuracy_score(pred.argmax(axis=1), test_labels)"
      ],
      "metadata": {
        "id": "47jsuIqEKrj1",
        "colab": {
          "base_uri": "https://localhost:8080/"
        },
        "outputId": "022159ab-619b-41a6-aac5-680d6a67015a"
      },
      "execution_count": 70,
      "outputs": [
        {
          "output_type": "execute_result",
          "data": {
            "text/plain": [
              "0.5166666666666667"
            ]
          },
          "metadata": {},
          "execution_count": 70
        }
      ]
    }
  ]
}